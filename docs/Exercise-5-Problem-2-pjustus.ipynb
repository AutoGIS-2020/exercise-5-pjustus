{
 "cells": [
  {
   "cell_type": "code",
   "execution_count": null,
   "metadata": {},
   "outputs": [],
   "source": [
    "# Importing modules\n",
    "import pandas as pd\n",
    "import geopandas as gpd\n",
    "import matplotlib.pyplot as plt\n",
    "from shapely.geometry import Point\n",
    "from pyproj import CRS\n",
    "import geojson\n",
    "import folium\n"
   ]
  },
  {
   "cell_type": "code",
   "execution_count": null,
   "metadata": {},
   "outputs": [],
   "source": [
    "# Reading the data into a dataframe\n",
    "data = pd.read_json('https://iot.fvh.fi/opendata/uiras/uiras-meta.json', \n",
    "                    orient=\"index\") \n",
    "\n",
    "# Creating shapely Point objects from the coordinates\n",
    "data['geometry'] = data.apply(lambda row: \n",
    "                              Point(row['lon'], row['lat']), axis=1)\n",
    "\n",
    "# Creating a geodataframe\n",
    "geo = gpd.GeoDataFrame(data, \n",
    "                       geometry='geometry')\n",
    "\n",
    "# Setting the CRS to EPSG:3857\n",
    "geo = geo.set_crs(epsg=4326)\n",
    "geo = geo.to_crs(epsg=3857)\n"
   ]
  },
  {
   "cell_type": "code",
   "execution_count": null,
   "metadata": {},
   "outputs": [],
   "source": [
    "geo"
   ]
  },
  {
   "cell_type": "code",
   "execution_count": null,
   "metadata": {},
   "outputs": [],
   "source": [
    "# Dropping the Uunisaari data since there is no data\n",
    "geo = geo.drop(index=\"003C62A8\")\n"
   ]
  },
  {
   "cell_type": "code",
   "execution_count": null,
   "metadata": {},
   "outputs": [],
   "source": [
    "geo"
   ]
  },
  {
   "cell_type": "code",
   "execution_count": null,
   "metadata": {},
   "outputs": [],
   "source": [
    "# Reading the temperature data\n",
    "temps = pd.read_csv(\n",
    "    \"https://iot.fvh.fi/opendata/uiras/uiras-all-data.csv\",\n",
    "    parse_dates=['readable_time'],\n",
    "    usecols=[\"readable_time\", \"temp_out1\", \"dev-id\"]\n",
    ")\n"
   ]
  },
  {
   "cell_type": "code",
   "execution_count": null,
   "metadata": {},
   "outputs": [],
   "source": [
    "temps"
   ]
  },
  {
   "cell_type": "code",
   "execution_count": null,
   "metadata": {},
   "outputs": [],
   "source": [
    "# Reversing the dataframe\n",
    "temps = temps[::-1]\n"
   ]
  },
  {
   "cell_type": "code",
   "execution_count": null,
   "metadata": {},
   "outputs": [],
   "source": [
    "temps.head(20)"
   ]
  },
  {
   "cell_type": "code",
   "execution_count": null,
   "metadata": {},
   "outputs": [],
   "source": [
    "# Creating an empty list and dataframe\n",
    "latest_temps = pd.DataFrame()\n",
    "devices = []\n",
    "\n",
    "# For-looping the temps dataframe\n",
    "for index, row in temps.iterrows():\n",
    "    \n",
    "    # Checking if device-id has been already stored in the list\n",
    "    if row[\"dev-id\"] not in devices:\n",
    "\n",
    "        # Appending rows to the new dataframe\n",
    "        latest_temps = latest_temps.append(row)\n",
    "        \n",
    "        # Adding the device-id to the list\n",
    "        devices.append(row[\"dev-id\"])\n",
    "    \n",
    "    # Since I know there are only 14 devices,\n",
    "    # no reason to iterate over the whole dataset\n",
    "    if len(devices) == 14:\n",
    "        break\n"
   ]
  },
  {
   "cell_type": "code",
   "execution_count": null,
   "metadata": {},
   "outputs": [],
   "source": [
    "devices"
   ]
  },
  {
   "cell_type": "code",
   "execution_count": null,
   "metadata": {},
   "outputs": [],
   "source": [
    "# Creating a string from the timestamp object\n",
    "latest_temps[\"time\"] = latest_temps.readable_time.dt.strftime('%d-%m-%Y %H:%M')\n"
   ]
  },
  {
   "cell_type": "code",
   "execution_count": null,
   "metadata": {},
   "outputs": [],
   "source": [
    "latest_temps"
   ]
  },
  {
   "cell_type": "code",
   "execution_count": null,
   "metadata": {},
   "outputs": [],
   "source": [
    "# Removing the unnecessary columns\n",
    "latest_temps = latest_temps[[\"dev-id\", \"temp_out1\", \"time\"]]\n",
    "\n",
    "geo = geo[[\"name\", \"geometry\"]]"
   ]
  },
  {
   "cell_type": "code",
   "execution_count": null,
   "metadata": {},
   "outputs": [],
   "source": [
    "geo"
   ]
  },
  {
   "cell_type": "code",
   "execution_count": null,
   "metadata": {},
   "outputs": [],
   "source": [
    "# Merging the datasets\n",
    "join = geo.merge(latest_temps, left_index=True, right_on=\"dev-id\")\n"
   ]
  },
  {
   "cell_type": "code",
   "execution_count": null,
   "metadata": {},
   "outputs": [],
   "source": [
    "join"
   ]
  },
  {
   "cell_type": "code",
   "execution_count": null,
   "metadata": {},
   "outputs": [],
   "source": [
    "join.crs"
   ]
  },
  {
   "cell_type": "code",
   "execution_count": null,
   "metadata": {},
   "outputs": [],
   "source": [
    "import folium\n",
    "\n",
    "  \n",
    "# Defining tooltip\n",
    "my_tooltip = folium.features.GeoJsonTooltip(\n",
    "    fields=[\"name\", \"time\", \"temp_out1\"],\n",
    "    aliases=[\"Place:\", \"Time of measurement\", \"Temperature (°C)\"],\n",
    "    labels=True,\n",
    "    sticky=False\n",
    ")\n",
    "\n",
    "# This popup doesnt work, maybe due to a bug\n",
    "my_popup = folium.features.GeoJsonPopup(\n",
    "    fields=[\"name\", \"time\", \"temp_out1\"],\n",
    "    aliases=[\"Place:\", \"Measured at:\", \"Temperature (°C):\"],\n",
    "    localize=True,\n",
    "    parse_html=True\n",
    ")\n",
    "\n",
    "# Defining the point data\n",
    "point_gjson = folium.features.GeoJson(\n",
    "    join,\n",
    "    name=\"Beaches\",\n",
    "    # There are some issues with changing the icon when dealing with GeoJson\n",
    "   # icon=folium.Icon(color=\"green\", icon=\"umbrella-beach\", prefix=\"fa\"),\n",
    "    popup=my_popup,\n",
    "    tooltip=my_tooltip\n",
    ")\n",
    "\n",
    "# Defining map instance\n",
    "m = folium.Map(\n",
    "    location=[60.25, 24.95],\n",
    "    zoom_start=10,\n",
    "    control_scale=True,\n",
    "    tiles=\"OpenStreetMap\"\n",
    ")\n",
    "\n",
    "# Adding the point data to the map\n",
    "point_gjson.add_to(m)\n",
    "\n",
    "loc = 'Water Temperatures in real-time by HRI, plotted by Justus Poutanen'\n",
    "title_html = '''\n",
    "             <h3 align=\"center\" style=\"font-size:16px\"><b>{}</b></h3>\n",
    "             '''.format(loc) \n",
    "\n",
    "m.get_root().html.add_child(folium.Element(title_html))\n",
    "\n",
    "m"
   ]
  },
  {
   "cell_type": "code",
   "execution_count": null,
   "metadata": {},
   "outputs": [],
   "source": [
    "# Saving the map to html\n",
    "m.save(\"Water_temps.html\")\n"
   ]
  },
  {
   "cell_type": "code",
   "execution_count": null,
   "metadata": {},
   "outputs": [],
   "source": []
  }
 ],
 "metadata": {
  "kernelspec": {
   "display_name": "Python 3",
   "language": "python",
   "name": "python3"
  },
  "language_info": {
   "codemirror_mode": {
    "name": "ipython",
    "version": 3
   },
   "file_extension": ".py",
   "mimetype": "text/x-python",
   "name": "python",
   "nbconvert_exporter": "python",
   "pygments_lexer": "ipython3",
   "version": "3.8.6"
  }
 },
 "nbformat": 4,
 "nbformat_minor": 4
}
